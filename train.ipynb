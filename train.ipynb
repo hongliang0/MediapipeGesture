{
 "cells": [
  {
   "cell_type": "markdown",
   "metadata": {},
   "source": [
    "# Training Notebook for COMP9993 Thesis.\n",
    "\n",
    "## Skeletal-Based Body Gesture Interaction With A Social Robot Companion\n",
    "\n",
    "Written by Hongliang Sun."
   ]
  }
 ],
 "metadata": {
  "language_info": {
   "name": "python"
  }
 },
 "nbformat": 4,
 "nbformat_minor": 2
}
